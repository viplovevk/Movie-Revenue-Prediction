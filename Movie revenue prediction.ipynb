{
 "cells": [
  {
   "cell_type": "code",
   "execution_count": 1,
   "id": "d8ea23d8",
   "metadata": {},
   "outputs": [],
   "source": [
    "import numpy as np\n",
    "import pandas as pd\n",
    "%matplotlib inline\n",
    "import matplotlib as mpl\n",
    "import matplotlib.pyplot as plt\n",
    "import tensorflow as tf\n",
    "from tensorflow import keras"
   ]
  },
  {
   "cell_type": "code",
   "execution_count": 6,
   "id": "ec090e5a",
   "metadata": {},
   "outputs": [],
   "source": [
    "data_x = pd.read_csv('D:\\movie\\Movie_collection_Independent.csv')"
   ]
  },
  {
   "cell_type": "code",
   "execution_count": 7,
   "id": "3c101edf",
   "metadata": {},
   "outputs": [],
   "source": [
    "data_y = pd.read_csv(\"D:\\movie\\Movie_collection_Target.csv\")"
   ]
  },
  {
   "cell_type": "code",
   "execution_count": 8,
   "id": "1b973782",
   "metadata": {},
   "outputs": [
    {
     "data": {
      "text/html": [
       "<div>\n",
       "<style scoped>\n",
       "    .dataframe tbody tr th:only-of-type {\n",
       "        vertical-align: middle;\n",
       "    }\n",
       "\n",
       "    .dataframe tbody tr th {\n",
       "        vertical-align: top;\n",
       "    }\n",
       "\n",
       "    .dataframe thead th {\n",
       "        text-align: right;\n",
       "    }\n",
       "</style>\n",
       "<table border=\"1\" class=\"dataframe\">\n",
       "  <thead>\n",
       "    <tr style=\"text-align: right;\">\n",
       "      <th></th>\n",
       "      <th>Marketin_expense</th>\n",
       "      <th>Production_expense</th>\n",
       "      <th>Multiplex_coverage</th>\n",
       "      <th>Budget</th>\n",
       "      <th>Movie_length</th>\n",
       "      <th>Lead_ Actor_Rating</th>\n",
       "      <th>Lead_Actress_rating</th>\n",
       "      <th>Director_rating</th>\n",
       "      <th>Producer_rating</th>\n",
       "      <th>Critic_rating</th>\n",
       "      <th>Trailer_views</th>\n",
       "      <th>Time_taken</th>\n",
       "      <th>Twitter_hastags</th>\n",
       "      <th>Avg_age_actors</th>\n",
       "      <th>Num_multiplex</th>\n",
       "      <th>3D_available</th>\n",
       "      <th>Genre_Thriller</th>\n",
       "      <th>Genre_Drama</th>\n",
       "      <th>Genre_Comedy</th>\n",
       "    </tr>\n",
       "  </thead>\n",
       "  <tbody>\n",
       "    <tr>\n",
       "      <th>0</th>\n",
       "      <td>20.1264</td>\n",
       "      <td>59.62</td>\n",
       "      <td>0.462</td>\n",
       "      <td>36524.125</td>\n",
       "      <td>138.7</td>\n",
       "      <td>7.825</td>\n",
       "      <td>8.095</td>\n",
       "      <td>7.910</td>\n",
       "      <td>7.995</td>\n",
       "      <td>7.94</td>\n",
       "      <td>527367</td>\n",
       "      <td>109.60</td>\n",
       "      <td>223.840</td>\n",
       "      <td>23</td>\n",
       "      <td>494</td>\n",
       "      <td>1</td>\n",
       "      <td>1</td>\n",
       "      <td>0</td>\n",
       "      <td>0</td>\n",
       "    </tr>\n",
       "    <tr>\n",
       "      <th>1</th>\n",
       "      <td>20.5462</td>\n",
       "      <td>69.14</td>\n",
       "      <td>0.531</td>\n",
       "      <td>35668.655</td>\n",
       "      <td>152.4</td>\n",
       "      <td>7.505</td>\n",
       "      <td>7.650</td>\n",
       "      <td>7.440</td>\n",
       "      <td>7.470</td>\n",
       "      <td>7.44</td>\n",
       "      <td>494055</td>\n",
       "      <td>146.64</td>\n",
       "      <td>243.456</td>\n",
       "      <td>42</td>\n",
       "      <td>462</td>\n",
       "      <td>0</td>\n",
       "      <td>0</td>\n",
       "      <td>1</td>\n",
       "      <td>0</td>\n",
       "    </tr>\n",
       "    <tr>\n",
       "      <th>2</th>\n",
       "      <td>20.5458</td>\n",
       "      <td>69.14</td>\n",
       "      <td>0.531</td>\n",
       "      <td>39912.675</td>\n",
       "      <td>134.6</td>\n",
       "      <td>7.485</td>\n",
       "      <td>7.570</td>\n",
       "      <td>7.495</td>\n",
       "      <td>7.515</td>\n",
       "      <td>7.44</td>\n",
       "      <td>547051</td>\n",
       "      <td>147.88</td>\n",
       "      <td>2022.400</td>\n",
       "      <td>38</td>\n",
       "      <td>458</td>\n",
       "      <td>0</td>\n",
       "      <td>0</td>\n",
       "      <td>0</td>\n",
       "      <td>1</td>\n",
       "    </tr>\n",
       "    <tr>\n",
       "      <th>3</th>\n",
       "      <td>20.6474</td>\n",
       "      <td>59.36</td>\n",
       "      <td>0.542</td>\n",
       "      <td>38873.890</td>\n",
       "      <td>119.3</td>\n",
       "      <td>6.895</td>\n",
       "      <td>7.035</td>\n",
       "      <td>6.920</td>\n",
       "      <td>7.020</td>\n",
       "      <td>8.26</td>\n",
       "      <td>516279</td>\n",
       "      <td>185.36</td>\n",
       "      <td>225.344</td>\n",
       "      <td>45</td>\n",
       "      <td>472</td>\n",
       "      <td>1</td>\n",
       "      <td>0</td>\n",
       "      <td>1</td>\n",
       "      <td>0</td>\n",
       "    </tr>\n",
       "    <tr>\n",
       "      <th>4</th>\n",
       "      <td>21.3810</td>\n",
       "      <td>59.36</td>\n",
       "      <td>0.542</td>\n",
       "      <td>39701.585</td>\n",
       "      <td>127.7</td>\n",
       "      <td>6.920</td>\n",
       "      <td>7.070</td>\n",
       "      <td>6.815</td>\n",
       "      <td>7.070</td>\n",
       "      <td>8.26</td>\n",
       "      <td>531448</td>\n",
       "      <td>176.48</td>\n",
       "      <td>225.792</td>\n",
       "      <td>55</td>\n",
       "      <td>395</td>\n",
       "      <td>0</td>\n",
       "      <td>0</td>\n",
       "      <td>1</td>\n",
       "      <td>0</td>\n",
       "    </tr>\n",
       "  </tbody>\n",
       "</table>\n",
       "</div>"
      ],
      "text/plain": [
       "   Marketin_expense  Production_expense  Multiplex_coverage     Budget  \\\n",
       "0           20.1264               59.62               0.462  36524.125   \n",
       "1           20.5462               69.14               0.531  35668.655   \n",
       "2           20.5458               69.14               0.531  39912.675   \n",
       "3           20.6474               59.36               0.542  38873.890   \n",
       "4           21.3810               59.36               0.542  39701.585   \n",
       "\n",
       "   Movie_length  Lead_ Actor_Rating  Lead_Actress_rating  Director_rating  \\\n",
       "0         138.7               7.825                8.095            7.910   \n",
       "1         152.4               7.505                7.650            7.440   \n",
       "2         134.6               7.485                7.570            7.495   \n",
       "3         119.3               6.895                7.035            6.920   \n",
       "4         127.7               6.920                7.070            6.815   \n",
       "\n",
       "   Producer_rating  Critic_rating  Trailer_views  Time_taken  Twitter_hastags  \\\n",
       "0            7.995           7.94         527367      109.60          223.840   \n",
       "1            7.470           7.44         494055      146.64          243.456   \n",
       "2            7.515           7.44         547051      147.88         2022.400   \n",
       "3            7.020           8.26         516279      185.36          225.344   \n",
       "4            7.070           8.26         531448      176.48          225.792   \n",
       "\n",
       "   Avg_age_actors  Num_multiplex  3D_available  Genre_Thriller  Genre_Drama  \\\n",
       "0              23            494             1               1            0   \n",
       "1              42            462             0               0            1   \n",
       "2              38            458             0               0            0   \n",
       "3              45            472             1               0            1   \n",
       "4              55            395             0               0            1   \n",
       "\n",
       "   Genre_Comedy  \n",
       "0             0  \n",
       "1             0  \n",
       "2             1  \n",
       "3             0  \n",
       "4             0  "
      ]
     },
     "execution_count": 8,
     "metadata": {},
     "output_type": "execute_result"
    }
   ],
   "source": [
    "data_x.head()"
   ]
  },
  {
   "cell_type": "code",
   "execution_count": 9,
   "id": "b144380e",
   "metadata": {},
   "outputs": [
    {
     "data": {
      "text/html": [
       "<div>\n",
       "<style scoped>\n",
       "    .dataframe tbody tr th:only-of-type {\n",
       "        vertical-align: middle;\n",
       "    }\n",
       "\n",
       "    .dataframe tbody tr th {\n",
       "        vertical-align: top;\n",
       "    }\n",
       "\n",
       "    .dataframe thead th {\n",
       "        text-align: right;\n",
       "    }\n",
       "</style>\n",
       "<table border=\"1\" class=\"dataframe\">\n",
       "  <thead>\n",
       "    <tr style=\"text-align: right;\">\n",
       "      <th></th>\n",
       "      <th>Collection</th>\n",
       "    </tr>\n",
       "  </thead>\n",
       "  <tbody>\n",
       "    <tr>\n",
       "      <th>0</th>\n",
       "      <td>2.266667</td>\n",
       "    </tr>\n",
       "    <tr>\n",
       "      <th>1</th>\n",
       "      <td>2.106667</td>\n",
       "    </tr>\n",
       "    <tr>\n",
       "      <th>2</th>\n",
       "      <td>2.980000</td>\n",
       "    </tr>\n",
       "    <tr>\n",
       "      <th>3</th>\n",
       "      <td>2.893333</td>\n",
       "    </tr>\n",
       "    <tr>\n",
       "      <th>4</th>\n",
       "      <td>3.080000</td>\n",
       "    </tr>\n",
       "  </tbody>\n",
       "</table>\n",
       "</div>"
      ],
      "text/plain": [
       "   Collection\n",
       "0    2.266667\n",
       "1    2.106667\n",
       "2    2.980000\n",
       "3    2.893333\n",
       "4    3.080000"
      ]
     },
     "execution_count": 9,
     "metadata": {},
     "output_type": "execute_result"
    }
   ],
   "source": [
    "data_y.head()"
   ]
  },
  {
   "cell_type": "code",
   "execution_count": 10,
   "id": "8816cfb1",
   "metadata": {},
   "outputs": [
    {
     "data": {
      "text/plain": [
       "(506, 19)"
      ]
     },
     "execution_count": 10,
     "metadata": {},
     "output_type": "execute_result"
    }
   ],
   "source": [
    "data_x.shape"
   ]
  },
  {
   "cell_type": "code",
   "execution_count": 11,
   "id": "33773743",
   "metadata": {},
   "outputs": [
    {
     "data": {
      "text/plain": [
       "(506, 1)"
      ]
     },
     "execution_count": 11,
     "metadata": {},
     "output_type": "execute_result"
    }
   ],
   "source": [
    "data_y.shape"
   ]
  },
  {
   "cell_type": "code",
   "execution_count": 12,
   "id": "631694cb",
   "metadata": {},
   "outputs": [
    {
     "name": "stdout",
     "output_type": "stream",
     "text": [
      "<class 'pandas.core.frame.DataFrame'>\n",
      "RangeIndex: 506 entries, 0 to 505\n",
      "Data columns (total 19 columns):\n",
      " #   Column               Non-Null Count  Dtype  \n",
      "---  ------               --------------  -----  \n",
      " 0   Marketin_expense     506 non-null    float64\n",
      " 1   Production_expense   506 non-null    float64\n",
      " 2   Multiplex_coverage   506 non-null    float64\n",
      " 3   Budget               506 non-null    float64\n",
      " 4   Movie_length         506 non-null    float64\n",
      " 5   Lead_ Actor_Rating   506 non-null    float64\n",
      " 6   Lead_Actress_rating  506 non-null    float64\n",
      " 7   Director_rating      506 non-null    float64\n",
      " 8   Producer_rating      506 non-null    float64\n",
      " 9   Critic_rating        506 non-null    float64\n",
      " 10  Trailer_views        506 non-null    int64  \n",
      " 11  Time_taken           506 non-null    float64\n",
      " 12  Twitter_hastags      506 non-null    float64\n",
      " 13  Avg_age_actors       506 non-null    int64  \n",
      " 14  Num_multiplex        506 non-null    int64  \n",
      " 15  3D_available         506 non-null    int64  \n",
      " 16  Genre_Thriller       506 non-null    int64  \n",
      " 17  Genre_Drama          506 non-null    int64  \n",
      " 18  Genre_Comedy         506 non-null    int64  \n",
      "dtypes: float64(12), int64(7)\n",
      "memory usage: 75.2 KB\n"
     ]
    }
   ],
   "source": [
    "data_x.info()"
   ]
  },
  {
   "cell_type": "code",
   "execution_count": 13,
   "id": "e0179f6c",
   "metadata": {},
   "outputs": [
    {
     "name": "stdout",
     "output_type": "stream",
     "text": [
      "<class 'pandas.core.frame.DataFrame'>\n",
      "RangeIndex: 506 entries, 0 to 505\n",
      "Data columns (total 1 columns):\n",
      " #   Column      Non-Null Count  Dtype  \n",
      "---  ------      --------------  -----  \n",
      " 0   Collection  506 non-null    float64\n",
      "dtypes: float64(1)\n",
      "memory usage: 4.1 KB\n"
     ]
    }
   ],
   "source": [
    "data_y.info()"
   ]
  },
  {
   "cell_type": "code",
   "execution_count": 14,
   "id": "c4224dfc",
   "metadata": {},
   "outputs": [],
   "source": [
    "from sklearn.model_selection import train_test_split\n",
    "X_train_full, X_test, y_train_full, y_test = train_test_split(data_x, data_y, random_state=42)\n",
    "X_train, X_valid, y_train, y_valid = train_test_split(X_train_full, y_train_full, random_state=42)"
   ]
  },
  {
   "cell_type": "code",
   "execution_count": 15,
   "id": "60b5da06",
   "metadata": {},
   "outputs": [
    {
     "data": {
      "text/plain": [
       "((284, 19), (95, 19), (127, 19))"
      ]
     },
     "execution_count": 15,
     "metadata": {},
     "output_type": "execute_result"
    }
   ],
   "source": [
    "X_train.shape, X_valid.shape, X_test.shape"
   ]
  },
  {
   "cell_type": "code",
   "execution_count": 16,
   "id": "1cc8dbc4",
   "metadata": {},
   "outputs": [
    {
     "data": {
      "text/plain": [
       "((284, 1), (95, 1), (127, 1))"
      ]
     },
     "execution_count": 16,
     "metadata": {},
     "output_type": "execute_result"
    }
   ],
   "source": [
    "y_train.shape, y_valid.shape, y_test.shape"
   ]
  },
  {
   "cell_type": "code",
   "execution_count": 17,
   "id": "f2e1aaa2",
   "metadata": {},
   "outputs": [],
   "source": [
    "# Standardizing\n",
    "# a process in which --> we subtract the mean of each varriable from there individual values and then\n",
    "# also divided by the varriance --> becuase at the end we want all the varriables with mean as '0' and varriance as '1'\n",
    "\n",
    "# standard procedure to create any ML Model\n",
    "\n",
    "# scaler is trained on training dataset only becuase we do ot want information from test/valid set to influence model training\n",
    "\n",
    "from sklearn.preprocessing import StandardScaler\n",
    "scaler = StandardScaler() \n",
    "# fitting the scaler object on trainign data\n",
    "X_train = scaler.fit_transform(X_train) # scaler will find values to subtract as a mean and to divide as a varriance\n",
    "X_valid = scaler.transform(X_valid) # transforming validation set using the sclaer object fitted on X_train\n",
    "X_test = scaler.transform(X_test) # transforming test set using the sclaer object fitted on X_train"
   ]
  },
  {
   "cell_type": "code",
   "execution_count": 18,
   "id": "06b427a8",
   "metadata": {},
   "outputs": [],
   "source": [
    "# to generate the same result everytime the code is being runned\n",
    "np.random.seed(42)\n",
    "tf.random.set_seed(42)"
   ]
  },
  {
   "cell_type": "code",
   "execution_count": 19,
   "id": "933d4200",
   "metadata": {},
   "outputs": [
    {
     "data": {
      "text/plain": [
       "((284, 19), (95, 19), (127, 19))"
      ]
     },
     "execution_count": 19,
     "metadata": {},
     "output_type": "execute_result"
    }
   ],
   "source": [
    "X_train.shape, X_valid.shape, X_test.shape"
   ]
  },
  {
   "cell_type": "code",
   "execution_count": 20,
   "id": "fa7b6b7a",
   "metadata": {},
   "outputs": [],
   "source": [
    "# Sequential API\n",
    "\n",
    "model = keras.models.Sequential([\n",
    "    keras.layers.Dense(30,activation=\"relu\",input_shape=[19]), #first_layer\n",
    "    keras.layers.Dense(30,activation=\"relu\"), # second_layer\n",
    "    keras.layers.Dense(1)]) #output_layer"
   ]
  },
  {
   "cell_type": "code",
   "execution_count": 21,
   "id": "920c3631",
   "metadata": {},
   "outputs": [
    {
     "name": "stdout",
     "output_type": "stream",
     "text": [
      "Model: \"sequential\"\n",
      "_________________________________________________________________\n",
      "Layer (type)                 Output Shape              Param #   \n",
      "=================================================================\n",
      "dense (Dense)                (None, 30)                600       \n",
      "_________________________________________________________________\n",
      "dense_1 (Dense)              (None, 30)                930       \n",
      "_________________________________________________________________\n",
      "dense_2 (Dense)              (None, 1)                 31        \n",
      "=================================================================\n",
      "Total params: 1,561\n",
      "Trainable params: 1,561\n",
      "Non-trainable params: 0\n",
      "_________________________________________________________________\n"
     ]
    }
   ],
   "source": [
    "model.summary()"
   ]
  },
  {
   "cell_type": "code",
   "execution_count": 22,
   "id": "12f6d413",
   "metadata": {},
   "outputs": [],
   "source": [
    "model.compile(loss=\"mean_squared_error\", # square of the difference of predicted value & actual value\n",
    "              optimizer=keras.optimizers.SGD(learning_rate=1e-3), # learnign rate --> lr - default value=0.01\n",
    "              metrics=[\"mae\"]) # mean_absolute_error = difference between the predicted value and actual value"
   ]
  },
  {
   "cell_type": "code",
   "execution_count": 23,
   "id": "88bc8caa",
   "metadata": {},
   "outputs": [],
   "source": [
    "checkpoint_cb = keras.callbacks.ModelCheckpoint(\"movie_revenue_pridction_model.h5\", save_best_only=True)"
   ]
  },
  {
   "cell_type": "code",
   "execution_count": 24,
   "id": "16f1d311",
   "metadata": {},
   "outputs": [],
   "source": [
    "early_stopping_cb = keras.callbacks.EarlyStopping(patience=10,restore_best_weights=True)"
   ]
  },
  {
   "cell_type": "code",
   "execution_count": 25,
   "id": "c06f941f",
   "metadata": {},
   "outputs": [
    {
     "name": "stdout",
     "output_type": "stream",
     "text": [
      "Epoch 1/100\n",
      "9/9 [==============================] - 1s 25ms/step - loss: 7.6430 - mae: 2.6619 - val_loss: 7.4087 - val_mae: 2.6199\n",
      "Epoch 2/100\n",
      "9/9 [==============================] - 0s 4ms/step - loss: 5.8750 - mae: 2.3122 - val_loss: 5.9614 - val_mae: 2.3288\n",
      "Epoch 3/100\n",
      "9/9 [==============================] - 0s 4ms/step - loss: 4.6160 - mae: 2.0258 - val_loss: 4.8729 - val_mae: 2.0806\n",
      "Epoch 4/100\n",
      "9/9 [==============================] - 0s 4ms/step - loss: 3.6731 - mae: 1.7794 - val_loss: 4.0252 - val_mae: 1.8648\n",
      "Epoch 5/100\n",
      "9/9 [==============================] - 0s 5ms/step - loss: 2.9491 - mae: 1.5607 - val_loss: 3.3547 - val_mae: 1.6778\n",
      "Epoch 6/100\n",
      "9/9 [==============================] - 0s 4ms/step - loss: 2.3923 - mae: 1.3747 - val_loss: 2.8238 - val_mae: 1.5114\n",
      "Epoch 7/100\n",
      "9/9 [==============================] - 0s 5ms/step - loss: 1.9661 - mae: 1.2156 - val_loss: 2.4016 - val_mae: 1.3662\n",
      "Epoch 8/100\n",
      "9/9 [==============================] - 0s 4ms/step - loss: 1.6400 - mae: 1.0785 - val_loss: 2.0719 - val_mae: 1.2436\n",
      "Epoch 9/100\n",
      "9/9 [==============================] - 0s 4ms/step - loss: 1.3952 - mae: 0.9743 - val_loss: 1.8075 - val_mae: 1.1413\n",
      "Epoch 10/100\n",
      "9/9 [==============================] - 0s 4ms/step - loss: 1.2086 - mae: 0.8917 - val_loss: 1.5983 - val_mae: 1.0606\n",
      "Epoch 11/100\n",
      "9/9 [==============================] - 0s 4ms/step - loss: 1.0697 - mae: 0.8300 - val_loss: 1.4333 - val_mae: 0.9933\n",
      "Epoch 12/100\n",
      "9/9 [==============================] - 0s 4ms/step - loss: 0.9661 - mae: 0.7838 - val_loss: 1.3026 - val_mae: 0.9405\n",
      "Epoch 13/100\n",
      "9/9 [==============================] - 0s 4ms/step - loss: 0.8869 - mae: 0.7497 - val_loss: 1.1951 - val_mae: 0.8962\n",
      "Epoch 14/100\n",
      "9/9 [==============================] - 0s 4ms/step - loss: 0.8245 - mae: 0.7182 - val_loss: 1.1079 - val_mae: 0.8587\n",
      "Epoch 15/100\n",
      "9/9 [==============================] - 0s 4ms/step - loss: 0.7747 - mae: 0.6945 - val_loss: 1.0365 - val_mae: 0.8260\n",
      "Epoch 16/100\n",
      "9/9 [==============================] - 0s 4ms/step - loss: 0.7349 - mae: 0.6743 - val_loss: 0.9773 - val_mae: 0.7976\n",
      "Epoch 17/100\n",
      "9/9 [==============================] - 0s 4ms/step - loss: 0.7007 - mae: 0.6573 - val_loss: 0.9262 - val_mae: 0.7727\n",
      "Epoch 18/100\n",
      "9/9 [==============================] - 0s 4ms/step - loss: 0.6714 - mae: 0.6418 - val_loss: 0.8817 - val_mae: 0.7506\n",
      "Epoch 19/100\n",
      "9/9 [==============================] - 0s 4ms/step - loss: 0.6455 - mae: 0.6295 - val_loss: 0.8436 - val_mae: 0.7315\n",
      "Epoch 20/100\n",
      "9/9 [==============================] - 0s 4ms/step - loss: 0.6223 - mae: 0.6172 - val_loss: 0.8084 - val_mae: 0.7135\n",
      "Epoch 21/100\n",
      "9/9 [==============================] - 0s 4ms/step - loss: 0.6004 - mae: 0.6061 - val_loss: 0.7771 - val_mae: 0.6973\n",
      "Epoch 22/100\n",
      "9/9 [==============================] - 0s 4ms/step - loss: 0.5809 - mae: 0.5960 - val_loss: 0.7488 - val_mae: 0.6826\n",
      "Epoch 23/100\n",
      "9/9 [==============================] - 0s 4ms/step - loss: 0.5620 - mae: 0.5853 - val_loss: 0.7222 - val_mae: 0.6691\n",
      "Epoch 24/100\n",
      "9/9 [==============================] - 0s 4ms/step - loss: 0.5443 - mae: 0.5766 - val_loss: 0.6981 - val_mae: 0.6574\n",
      "Epoch 25/100\n",
      "9/9 [==============================] - 0s 4ms/step - loss: 0.5279 - mae: 0.5670 - val_loss: 0.6754 - val_mae: 0.6461\n",
      "Epoch 26/100\n",
      "9/9 [==============================] - 0s 4ms/step - loss: 0.5122 - mae: 0.5585 - val_loss: 0.6546 - val_mae: 0.6363\n",
      "Epoch 27/100\n",
      "9/9 [==============================] - 0s 4ms/step - loss: 0.4978 - mae: 0.5504 - val_loss: 0.6348 - val_mae: 0.6268\n",
      "Epoch 28/100\n",
      "9/9 [==============================] - 0s 4ms/step - loss: 0.4831 - mae: 0.5415 - val_loss: 0.6154 - val_mae: 0.6172\n",
      "Epoch 29/100\n",
      "9/9 [==============================] - 0s 4ms/step - loss: 0.4698 - mae: 0.5340 - val_loss: 0.5979 - val_mae: 0.6089\n",
      "Epoch 30/100\n",
      "9/9 [==============================] - 0s 4ms/step - loss: 0.4568 - mae: 0.5256 - val_loss: 0.5809 - val_mae: 0.6009\n",
      "Epoch 31/100\n",
      "9/9 [==============================] - 0s 4ms/step - loss: 0.4442 - mae: 0.5184 - val_loss: 0.5650 - val_mae: 0.5932\n",
      "Epoch 32/100\n",
      "9/9 [==============================] - 0s 4ms/step - loss: 0.4327 - mae: 0.5114 - val_loss: 0.5500 - val_mae: 0.5859\n",
      "Epoch 33/100\n",
      "9/9 [==============================] - 0s 4ms/step - loss: 0.4217 - mae: 0.5050 - val_loss: 0.5361 - val_mae: 0.5790\n",
      "Epoch 34/100\n",
      "9/9 [==============================] - 0s 4ms/step - loss: 0.4106 - mae: 0.4980 - val_loss: 0.5228 - val_mae: 0.5722\n",
      "Epoch 35/100\n",
      "9/9 [==============================] - 0s 4ms/step - loss: 0.4006 - mae: 0.4914 - val_loss: 0.5097 - val_mae: 0.5655\n",
      "Epoch 36/100\n",
      "9/9 [==============================] - 0s 4ms/step - loss: 0.3911 - mae: 0.4854 - val_loss: 0.4968 - val_mae: 0.5587\n",
      "Epoch 37/100\n",
      "9/9 [==============================] - 0s 4ms/step - loss: 0.3817 - mae: 0.4789 - val_loss: 0.4845 - val_mae: 0.5521\n",
      "Epoch 38/100\n",
      "9/9 [==============================] - 0s 5ms/step - loss: 0.3724 - mae: 0.4730 - val_loss: 0.4728 - val_mae: 0.5457\n",
      "Epoch 39/100\n",
      "9/9 [==============================] - 0s 4ms/step - loss: 0.3639 - mae: 0.4674 - val_loss: 0.4618 - val_mae: 0.5396\n",
      "Epoch 40/100\n",
      "9/9 [==============================] - ETA: 0s - loss: 0.2192 - mae: 0.378 - 0s 4ms/step - loss: 0.3559 - mae: 0.4614 - val_loss: 0.4511 - val_mae: 0.5335\n",
      "Epoch 41/100\n",
      "9/9 [==============================] - 0s 4ms/step - loss: 0.3478 - mae: 0.4555 - val_loss: 0.4413 - val_mae: 0.5279\n",
      "Epoch 42/100\n",
      "9/9 [==============================] - 0s 6ms/step - loss: 0.3402 - mae: 0.4501 - val_loss: 0.4318 - val_mae: 0.5223\n",
      "Epoch 43/100\n",
      "9/9 [==============================] - 0s 4ms/step - loss: 0.3332 - mae: 0.4451 - val_loss: 0.4228 - val_mae: 0.5169\n",
      "Epoch 44/100\n",
      "9/9 [==============================] - 0s 4ms/step - loss: 0.3260 - mae: 0.4398 - val_loss: 0.4139 - val_mae: 0.5114\n",
      "Epoch 45/100\n",
      "9/9 [==============================] - 0s 5ms/step - loss: 0.3194 - mae: 0.4349 - val_loss: 0.4056 - val_mae: 0.5063\n",
      "Epoch 46/100\n",
      "9/9 [==============================] - ETA: 0s - loss: 0.2057 - mae: 0.382 - 0s 5ms/step - loss: 0.3128 - mae: 0.4302 - val_loss: 0.3974 - val_mae: 0.5011\n",
      "Epoch 47/100\n",
      "9/9 [==============================] - 0s 4ms/step - loss: 0.3067 - mae: 0.4258 - val_loss: 0.3897 - val_mae: 0.4961\n",
      "Epoch 48/100\n",
      "9/9 [==============================] - 0s 4ms/step - loss: 0.3007 - mae: 0.4213 - val_loss: 0.3820 - val_mae: 0.4910\n",
      "Epoch 49/100\n",
      "9/9 [==============================] - 0s 4ms/step - loss: 0.2953 - mae: 0.4171 - val_loss: 0.3747 - val_mae: 0.4860\n",
      "Epoch 50/100\n",
      "9/9 [==============================] - 0s 4ms/step - loss: 0.2895 - mae: 0.4127 - val_loss: 0.3676 - val_mae: 0.4815\n",
      "Epoch 51/100\n",
      "9/9 [==============================] - 0s 4ms/step - loss: 0.2843 - mae: 0.4086 - val_loss: 0.3609 - val_mae: 0.4773\n",
      "Epoch 52/100\n",
      "9/9 [==============================] - 0s 4ms/step - loss: 0.2794 - mae: 0.4050 - val_loss: 0.3545 - val_mae: 0.4734\n",
      "Epoch 53/100\n",
      "9/9 [==============================] - 0s 4ms/step - loss: 0.2746 - mae: 0.4014 - val_loss: 0.3486 - val_mae: 0.4699\n",
      "Epoch 54/100\n",
      "9/9 [==============================] - 0s 4ms/step - loss: 0.2699 - mae: 0.3977 - val_loss: 0.3423 - val_mae: 0.4659\n",
      "Epoch 55/100\n",
      "9/9 [==============================] - 0s 3ms/step - loss: 0.2654 - mae: 0.3938 - val_loss: 0.3370 - val_mae: 0.4626\n",
      "Epoch 56/100\n",
      "9/9 [==============================] - 0s 4ms/step - loss: 0.2612 - mae: 0.3905 - val_loss: 0.3317 - val_mae: 0.4593\n",
      "Epoch 57/100\n",
      "9/9 [==============================] - 0s 5ms/step - loss: 0.2570 - mae: 0.3870 - val_loss: 0.3262 - val_mae: 0.4556\n",
      "Epoch 58/100\n",
      "9/9 [==============================] - 0s 5ms/step - loss: 0.2531 - mae: 0.3837 - val_loss: 0.3207 - val_mae: 0.4519\n",
      "Epoch 59/100\n",
      "9/9 [==============================] - 0s 4ms/step - loss: 0.2492 - mae: 0.3809 - val_loss: 0.3154 - val_mae: 0.4482\n",
      "Epoch 60/100\n",
      "9/9 [==============================] - 0s 4ms/step - loss: 0.2455 - mae: 0.3776 - val_loss: 0.3109 - val_mae: 0.4452\n",
      "Epoch 61/100\n",
      "9/9 [==============================] - 0s 3ms/step - loss: 0.2419 - mae: 0.3747 - val_loss: 0.3064 - val_mae: 0.4419\n",
      "Epoch 62/100\n",
      "9/9 [==============================] - 0s 4ms/step - loss: 0.2386 - mae: 0.3719 - val_loss: 0.3018 - val_mae: 0.4387\n",
      "Epoch 63/100\n",
      "9/9 [==============================] - 0s 4ms/step - loss: 0.2353 - mae: 0.3690 - val_loss: 0.2976 - val_mae: 0.4356\n",
      "Epoch 64/100\n",
      "9/9 [==============================] - 0s 4ms/step - loss: 0.2320 - mae: 0.3662 - val_loss: 0.2936 - val_mae: 0.4326\n",
      "Epoch 65/100\n",
      "9/9 [==============================] - 0s 3ms/step - loss: 0.2291 - mae: 0.3636 - val_loss: 0.2896 - val_mae: 0.4295\n",
      "Epoch 66/100\n",
      "9/9 [==============================] - 0s 4ms/step - loss: 0.2259 - mae: 0.3608 - val_loss: 0.2854 - val_mae: 0.4263\n",
      "Epoch 67/100\n",
      "9/9 [==============================] - 0s 4ms/step - loss: 0.2231 - mae: 0.3583 - val_loss: 0.2819 - val_mae: 0.4237\n",
      "Epoch 68/100\n",
      "9/9 [==============================] - 0s 4ms/step - loss: 0.2201 - mae: 0.3555 - val_loss: 0.2785 - val_mae: 0.4211\n",
      "Epoch 69/100\n",
      "9/9 [==============================] - 0s 4ms/step - loss: 0.2176 - mae: 0.3533 - val_loss: 0.2751 - val_mae: 0.4183\n",
      "Epoch 70/100\n",
      "9/9 [==============================] - 0s 4ms/step - loss: 0.2149 - mae: 0.3509 - val_loss: 0.2715 - val_mae: 0.4155\n",
      "Epoch 71/100\n",
      "9/9 [==============================] - 0s 4ms/step - loss: 0.2124 - mae: 0.3485 - val_loss: 0.2680 - val_mae: 0.4126\n",
      "Epoch 72/100\n",
      "9/9 [==============================] - 0s 4ms/step - loss: 0.2098 - mae: 0.3462 - val_loss: 0.2650 - val_mae: 0.4101\n",
      "Epoch 73/100\n",
      "9/9 [==============================] - 0s 5ms/step - loss: 0.2073 - mae: 0.3442 - val_loss: 0.2618 - val_mae: 0.4074\n",
      "Epoch 74/100\n",
      "9/9 [==============================] - 0s 4ms/step - loss: 0.2049 - mae: 0.3422 - val_loss: 0.2588 - val_mae: 0.4049\n",
      "Epoch 75/100\n",
      "9/9 [==============================] - 0s 4ms/step - loss: 0.2026 - mae: 0.3400 - val_loss: 0.2558 - val_mae: 0.4024\n",
      "Epoch 76/100\n",
      "9/9 [==============================] - 0s 4ms/step - loss: 0.2005 - mae: 0.3383 - val_loss: 0.2527 - val_mae: 0.3997\n",
      "Epoch 77/100\n",
      "9/9 [==============================] - 0s 4ms/step - loss: 0.1984 - mae: 0.3364 - val_loss: 0.2500 - val_mae: 0.3974\n",
      "Epoch 78/100\n",
      "9/9 [==============================] - 0s 4ms/step - loss: 0.1963 - mae: 0.3344 - val_loss: 0.2476 - val_mae: 0.3954\n",
      "Epoch 79/100\n",
      "9/9 [==============================] - 0s 4ms/step - loss: 0.1944 - mae: 0.3326 - val_loss: 0.2452 - val_mae: 0.3934\n",
      "Epoch 80/100\n",
      "9/9 [==============================] - ETA: 0s - loss: 0.1204 - mae: 0.284 - 0s 5ms/step - loss: 0.1924 - mae: 0.3307 - val_loss: 0.2426 - val_mae: 0.3912\n",
      "Epoch 81/100\n",
      "9/9 [==============================] - 0s 4ms/step - loss: 0.1906 - mae: 0.3292 - val_loss: 0.2400 - val_mae: 0.3889\n",
      "Epoch 82/100\n",
      "9/9 [==============================] - 0s 4ms/step - loss: 0.1886 - mae: 0.3271 - val_loss: 0.2377 - val_mae: 0.3869\n",
      "Epoch 83/100\n",
      "9/9 [==============================] - 0s 4ms/step - loss: 0.1868 - mae: 0.3255 - val_loss: 0.2355 - val_mae: 0.3849\n",
      "Epoch 84/100\n",
      "9/9 [==============================] - 0s 4ms/step - loss: 0.1852 - mae: 0.3239 - val_loss: 0.2331 - val_mae: 0.3828\n",
      "Epoch 85/100\n",
      "9/9 [==============================] - 0s 4ms/step - loss: 0.1834 - mae: 0.3223 - val_loss: 0.2310 - val_mae: 0.3809\n",
      "Epoch 86/100\n",
      "9/9 [==============================] - ETA: 0s - loss: 0.1563 - mae: 0.310 - 0s 4ms/step - loss: 0.1818 - mae: 0.3209 - val_loss: 0.2288 - val_mae: 0.3788\n",
      "Epoch 87/100\n",
      "9/9 [==============================] - 0s 4ms/step - loss: 0.1801 - mae: 0.3192 - val_loss: 0.2268 - val_mae: 0.3770\n",
      "Epoch 88/100\n",
      "9/9 [==============================] - 0s 4ms/step - loss: 0.1787 - mae: 0.3181 - val_loss: 0.2246 - val_mae: 0.3749\n",
      "Epoch 89/100\n",
      "9/9 [==============================] - 0s 4ms/step - loss: 0.1770 - mae: 0.3164 - val_loss: 0.2226 - val_mae: 0.3732\n",
      "Epoch 90/100\n",
      "9/9 [==============================] - 0s 4ms/step - loss: 0.1755 - mae: 0.3151 - val_loss: 0.2208 - val_mae: 0.3717\n",
      "Epoch 91/100\n",
      "9/9 [==============================] - 0s 4ms/step - loss: 0.1741 - mae: 0.3137 - val_loss: 0.2188 - val_mae: 0.3698\n",
      "Epoch 92/100\n",
      "9/9 [==============================] - 0s 4ms/step - loss: 0.1728 - mae: 0.3125 - val_loss: 0.2168 - val_mae: 0.3680\n",
      "Epoch 93/100\n",
      "9/9 [==============================] - 0s 4ms/step - loss: 0.1714 - mae: 0.3111 - val_loss: 0.2151 - val_mae: 0.3664\n",
      "Epoch 94/100\n",
      "9/9 [==============================] - ETA: 0s - loss: 0.1754 - mae: 0.323 - 0s 4ms/step - loss: 0.1702 - mae: 0.3098 - val_loss: 0.2138 - val_mae: 0.3654\n",
      "Epoch 95/100\n",
      "9/9 [==============================] - 0s 4ms/step - loss: 0.1688 - mae: 0.3086 - val_loss: 0.2122 - val_mae: 0.3641\n",
      "Epoch 96/100\n",
      "9/9 [==============================] - 0s 4ms/step - loss: 0.1675 - mae: 0.3072 - val_loss: 0.2106 - val_mae: 0.3625\n",
      "Epoch 97/100\n",
      "9/9 [==============================] - 0s 4ms/step - loss: 0.1662 - mae: 0.3059 - val_loss: 0.2087 - val_mae: 0.3607\n",
      "Epoch 98/100\n",
      "9/9 [==============================] - 0s 5ms/step - loss: 0.1652 - mae: 0.3051 - val_loss: 0.2072 - val_mae: 0.3593\n",
      "Epoch 99/100\n",
      "9/9 [==============================] - 0s 5ms/step - loss: 0.1639 - mae: 0.3038 - val_loss: 0.2057 - val_mae: 0.3578\n",
      "Epoch 100/100\n",
      "9/9 [==============================] - 0s 5ms/step - loss: 0.1627 - mae: 0.3025 - val_loss: 0.2042 - val_mae: 0.3564\n"
     ]
    }
   ],
   "source": [
    "history = model.fit(X_train,y_train,epochs=100, validation_data=(X_valid,y_valid), \n",
    "                    callbacks=[checkpoint_cb,early_stopping_cb])"
   ]
  },
  {
   "cell_type": "code",
   "execution_count": 26,
   "id": "cd80d118",
   "metadata": {},
   "outputs": [
    {
     "data": {
      "image/png": "[encoded data removed]",
      "text/plain": [
       "<Figure size 576x360 with 1 Axes>"
      ]
     },
     "metadata": {
      "needs_background": "light"
     },
     "output_type": "display_data"
    }
   ],
   "source": [
    "# plotting the model history\n",
    "\n",
    "pd.DataFrame(history.history).plot(figsize=(8,5))\n",
    "plt.grid(True)\n",
    "plt.gca().set_ylim(0,1)\n",
    "plt.show()"
   ]
  },
  {
   "cell_type": "code",
   "execution_count": 27,
   "id": "c1136204",
   "metadata": {},
   "outputs": [],
   "source": [
    "del model"
   ]
  },
  {
   "cell_type": "code",
   "execution_count": 28,
   "id": "378949f4",
   "metadata": {},
   "outputs": [],
   "source": [
    "keras.backend.clear_session()"
   ]
  },
  {
   "cell_type": "code",
   "execution_count": 29,
   "id": "088f5415",
   "metadata": {},
   "outputs": [],
   "source": [
    "model = keras.models.load_model(\"movie_revenue_pridction_model.h5\")"
   ]
  },
  {
   "cell_type": "code",
   "execution_count": 30,
   "id": "1e84feba",
   "metadata": {},
   "outputs": [
    {
     "name": "stdout",
     "output_type": "stream",
     "text": [
      "Model: \"sequential\"\n",
      "_________________________________________________________________\n",
      "Layer (type)                 Output Shape              Param #   \n",
      "=================================================================\n",
      "dense (Dense)                (None, 30)                600       \n",
      "_________________________________________________________________\n",
      "dense_1 (Dense)              (None, 30)                930       \n",
      "_________________________________________________________________\n",
      "dense_2 (Dense)              (None, 1)                 31        \n",
      "=================================================================\n",
      "Total params: 1,561\n",
      "Trainable params: 1,561\n",
      "Non-trainable params: 0\n",
      "_________________________________________________________________\n"
     ]
    }
   ],
   "source": [
    "model.summary()"
   ]
  },
  {
   "cell_type": "code",
   "execution_count": 31,
   "id": "5589bc13",
   "metadata": {},
   "outputs": [
    {
     "name": "stdout",
     "output_type": "stream",
     "text": [
      "4/4 [==============================] - 0s 6ms/step - loss: 0.2473 - mae: 0.3684\n"
     ]
    },
    {
     "data": {
      "text/plain": [
       "[0.2472868710756302, 0.3683830499649048]"
      ]
     },
     "execution_count": 31,
     "metadata": {},
     "output_type": "execute_result"
    }
   ],
   "source": [
    "model.evaluate(X_test,y_test)"
   ]
  },
  {
   "cell_type": "code",
   "execution_count": 32,
   "id": "8bb453ef",
   "metadata": {},
   "outputs": [
    {
     "data": {
      "text/plain": [
       "array([[-0.44266208, -1.02614886,  0.38963381,  0.17868888,  0.53249944,\n",
       "         0.51973978,  0.49371081,  0.54760731,  0.56866681, -0.29573723,\n",
       "         0.24587303,  1.2119233 , -1.47737723,  1.65755423, -0.06831227,\n",
       "         0.83094897, -0.72586619, -0.50659369,  1.48020648],\n",
       "       [-0.4472429 , -0.69071378,  0.92307081,  0.66563386, -1.30219665,\n",
       "        -0.07919485, -0.13613263, -0.16729666, -0.04627728,  0.8956014 ,\n",
       "         0.86778136,  1.68205187, -0.21397019, -0.67366446, -1.12199413,\n",
       "        -1.20344334,  1.37766439, -0.50659369, -0.67558142],\n",
       "       [-0.44085257,  2.34099388, -0.44862433, -0.43782334,  1.05925789,\n",
       "         0.92200931,  0.88680459,  0.86287552,  0.85145132, -1.33815853,\n",
       "        -0.98658199, -0.48441691,  0.91469946,  0.69291202,  0.14427266,\n",
       "        -1.20344334, -0.72586619, -0.50659369,  1.48020648],\n",
       "       [-0.44268023, -0.06532636,  1.21095744, -0.32107045, -2.20162774,\n",
       "        -0.64237218, -0.57389615, -0.71346553, -0.65673272, -1.07010734,\n",
       "         0.72351318, -1.22111323, -1.48128267, -1.47753297, -1.72277764,\n",
       "        -1.20344334,  1.37766439, -0.50659369, -0.67558142],\n",
       "       [ 0.20523665,  0.97082689, -1.32921874,  0.0092548 ,  0.80842054,\n",
       "         0.68958692,  0.63218703,  0.7252232 ,  0.58213274,  0.12123129,\n",
       "        -0.56643381, -0.69645944,  1.53712758, -1.39714612,  0.91142699,\n",
       "        -1.20344334, -0.72586619, -0.50659369,  1.48020648]])"
      ]
     },
     "execution_count": 32,
     "metadata": {},
     "output_type": "execute_result"
    }
   ],
   "source": [
    "X_new = X_test[:5]\n",
    "X_new"
   ]
  },
  {
   "cell_type": "code",
   "execution_count": 33,
   "id": "df20ec3c",
   "metadata": {},
   "outputs": [],
   "source": [
    "y_pred = model.predict(X_new)"
   ]
  },
  {
   "cell_type": "code",
   "execution_count": 34,
   "id": "a2095ae6",
   "metadata": {},
   "outputs": [
    {
     "name": "stdout",
     "output_type": "stream",
     "text": [
      "[[2.4928281]\n",
      " [2.4419906]\n",
      " [1.7999651]\n",
      " [2.3888502]\n",
      " [1.5561042]]\n"
     ]
    }
   ],
   "source": [
    "print(y_pred) # predicted_y"
   ]
  },
  {
   "cell_type": "code",
   "execution_count": 35,
   "id": "4dc511eb",
   "metadata": {},
   "outputs": [
    {
     "name": "stdout",
     "output_type": "stream",
     "text": [
      "     Collection\n",
      "173    2.240000\n",
      "274    2.826667\n",
      "491    1.573333\n",
      "72     2.186667\n",
      "452    1.740000\n"
     ]
    }
   ],
   "source": [
    "print(y_test[:5]) # actual_y"
   ]
  },
  {
   "cell_type": "code",
   "execution_count": null,
   "id": "6eada4be",
   "metadata": {},
   "outputs": [],
   "source": []
  }
 ],
 "metadata": {
  "kernelspec": {
   "display_name": "Python 3",
   "language": "python",
   "name": "python3"
  },
  "language_info": {
   "codemirror_mode": {
    "name": "ipython",
    "version": 3
   },
   "file_extension": ".py",
   "mimetype": "text/x-python",
   "name": "python",
   "nbconvert_exporter": "python",
   "pygments_lexer": "ipython3",
   "version": "3.8.8"
  }
 },
 "nbformat": 4,
 "nbformat_minor": 5
}
